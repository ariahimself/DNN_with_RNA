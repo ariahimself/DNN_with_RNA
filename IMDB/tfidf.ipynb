{
 "cells": [
  {
   "cell_type": "code",
   "execution_count": 12,
   "metadata": {},
   "outputs": [],
   "source": [
    "from keras.datasets import imdb\n",
    "import numpy as np\n",
    "import os\n",
    "from keras.preprocessing import sequence\n",
    "import pickle\n",
    "\n",
    "def load_data(max_features=5000, skip_top=0, maxlen=400):\n",
    "    \"\"\"\n",
    "    Load data if data have been created.\n",
    "    Create data otherwise.\n",
    "\n",
    "    \"\"\"\n",
    "\n",
    "    if 'data' not in os.listdir('.'):\n",
    "        os.mkdir('data') \n",
    "        \n",
    "    if 'id_to_word.pkl' not in os.listdir('data'):\n",
    "        print('Loading data...')\n",
    "        (x_train, y_train), (x_val, y_val) = imdb.load_data(num_words=max_features, skip_top=skip_top, index_from=3)\n",
    "        word_to_id = imdb.get_word_index()\n",
    "        word_to_id ={k:(v+3) for k,v in word_to_id.items()}\n",
    "        word_to_id[\"<PAD>\"] = 0\n",
    "        word_to_id[\"<START>\"] = 1\n",
    "        word_to_id[\"<UNK>\"] = 2\n",
    "        id_to_word = {value:key for key,value in word_to_id.items()}\n",
    "\n",
    "        print(len(x_train), 'train sequences')\n",
    "        print(len(x_val), 'test sequences')\n",
    "\n",
    "        print('Pad sequences (samples x time)')\n",
    "        x_train = sequence.pad_sequences(x_train, maxlen=maxlen)\n",
    "        x_val = sequence.pad_sequences(x_val, maxlen=maxlen)\n",
    "        y_train = np.eye(2)[y_train]\n",
    "        y_val = np.eye(2)[y_val] \n",
    "\n",
    "        np.save('./data/x_train.npy', x_train)\n",
    "        np.save('./data/y_train.npy', y_train)\n",
    "        np.save('./data/x_val.npy', x_val)\n",
    "        np.save('./data/y_val.npy', y_val)\n",
    "        with open('data/id_to_word.pkl','wb') as f:\n",
    "            pickle.dump(id_to_word, f)  \n",
    "\n",
    "    else:\n",
    "        x_train, y_train, x_val, y_val = np.load('data/x_train.npy'),np.load('data/y_train.npy'),np.load('data/x_val.npy'),np.load('data/y_val.npy')\n",
    "        with open('data/id_to_word.pkl','rb') as f:\n",
    "            id_to_word = pickle.load(f)\n",
    "\n",
    "    return x_train, y_train, x_val, y_val, id_to_word"
   ]
  },
  {
   "cell_type": "code",
   "execution_count": 13,
   "metadata": {},
   "outputs": [
    {
     "name": "stdout",
     "output_type": "stream",
     "text": [
      "Loading data...\n",
      "25000 train sequences\n",
      "25000 test sequences\n",
      "Pad sequences (samples x time)\n"
     ]
    }
   ],
   "source": [
    "x_train, y_train, x_val, y_val, id_to_word = load_data(max_features=5000, skip_top=0)"
   ]
  },
  {
   "cell_type": "code",
   "execution_count": 18,
   "metadata": {},
   "outputs": [
    {
     "data": {
      "text/plain": [
       "(25000, 400)"
      ]
     },
     "execution_count": 18,
     "metadata": {},
     "output_type": "execute_result"
    }
   ],
   "source": [
    "x_val.shape"
   ]
  },
  {
   "cell_type": "code",
   "execution_count": 20,
   "metadata": {},
   "outputs": [],
   "source": [
    "x = np.vstack([x_train, x_val])"
   ]
  },
  {
   "cell_type": "code",
   "execution_count": 21,
   "metadata": {},
   "outputs": [
    {
     "data": {
      "text/plain": [
       "(50000, 400)"
      ]
     },
     "execution_count": 21,
     "metadata": {},
     "output_type": "execute_result"
    }
   ],
   "source": [
    "x.shape"
   ]
  },
  {
   "cell_type": "code",
   "execution_count": null,
   "metadata": {},
   "outputs": [],
   "source": []
  }
 ],
 "metadata": {
  "kernelspec": {
   "display_name": "Python 3",
   "language": "python",
   "name": "python3"
  },
  "language_info": {
   "codemirror_mode": {
    "name": "ipython",
    "version": 3
   },
   "file_extension": ".py",
   "mimetype": "text/x-python",
   "name": "python",
   "nbconvert_exporter": "python",
   "pygments_lexer": "ipython3",
   "version": "3.6.8"
  }
 },
 "nbformat": 4,
 "nbformat_minor": 2
}
